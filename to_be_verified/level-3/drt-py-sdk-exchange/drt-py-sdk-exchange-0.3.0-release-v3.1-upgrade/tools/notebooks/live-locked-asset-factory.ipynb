{
 "cells": [
  {
   "cell_type": "code",
   "execution_count": 1,
   "metadata": {},
   "outputs": [],
   "source": [
    "import sys\n",
    "from pathlib import Path\n",
    "sys.path.append(str(Path.cwd().parent.parent.absolute()))"
   ]
  },
  {
   "cell_type": "code",
   "execution_count": 2,
   "metadata": {},
   "outputs": [],
   "source": [
    "from dharitri_sdk import Address, TokenPayment, ProxyNetworkProvider\n",
    "from dharitri_sdk.core.transaction_builders import ContractCallBuilder, DCDTNFTTransferBuilder\n",
    "from dharitri_sdk.core.transaction_builders import DefaultTransactionBuildersConfiguration\n",
    "from utils.contract_retrievers import retrieve_locked_asset_factory_by_address\n",
    "from utils.utils_chain import Account\n",
    "from tools.notebooks import env\n",
    "\n",
    "config = DefaultTransactionBuildersConfiguration(chain_id=env.CHAIN_ID)\n",
    "proxy = ProxyNetworkProvider(env.PROXY_URL)"
   ]
  },
  {
   "cell_type": "code",
   "execution_count": 3,
   "metadata": {},
   "outputs": [],
   "source": [
    "contract_address = Address.new_from_bech32(\"drt1qqqqqqqqqqqqqpgqjpt0qqgsrdhp2xqygpjtfrpwf76f9nvg2jps4fhagf\")\n",
    "XMOA = env.XMOA\n",
    "LKMOA = env.LKMOA\n",
    "WXMOA = env.WXMOA"
   ]
  },
  {
   "cell_type": "code",
   "execution_count": 4,
   "metadata": {},
   "outputs": [],
   "source": [
    "from dharitri_sdk import UserSigner\n",
    "from pathlib import Path\n",
    "\n",
    "user = env.USER1\n",
    "user_signer = UserSigner.from_pem_file(Path(env.USER1_PEM))\n",
    "owner = Account(pem_file=env.USER1_PEM)\n",
    "owner.address = Address.from_bech32(env.OWNER_ADDRESS)"
   ]
  },
  {
   "attachments": {},
   "cell_type": "markdown",
   "metadata": {},
   "source": [
    "contract init"
   ]
  },
  {
   "cell_type": "code",
   "execution_count": 5,
   "metadata": {},
   "outputs": [],
   "source": [
    "locked_asset_contract = retrieve_locked_asset_factory_by_address(contract_address.to_bech32())"
   ]
  },
  {
   "cell_type": "code",
   "execution_count": null,
   "metadata": {},
   "outputs": [],
   "source": [
    "owner.sync_nonce(proxy)\n",
    "locked_asset_contract.set_transfer_role_for_contract(owner, proxy, \"drt1qqqqqqqqqqqqqpgqd0lne4xj3wyp2es4ayr840qa5hwww6u3pc4sp2rvf7\")"
   ]
  }
 ],
 "metadata": {
  "kernelspec": {
   "display_name": ".venv",
   "language": "python",
   "name": "python3"
  },
  "language_info": {
   "codemirror_mode": {
    "name": "ipython",
    "version": 3
   },
   "file_extension": ".py",
   "mimetype": "text/x-python",
   "name": "python",
   "nbconvert_exporter": "python",
   "pygments_lexer": "ipython3",
   "version": "3.8.10"
  },
  "orig_nbformat": 4,
  "vscode": {
   "interpreter": {
    "hash": "46890cb94c8e016cd17355f2b23107d7cb41a4430d538522c76446f308933f39"
   }
  }
 },
 "nbformat": 4,
 "nbformat_minor": 2
}
