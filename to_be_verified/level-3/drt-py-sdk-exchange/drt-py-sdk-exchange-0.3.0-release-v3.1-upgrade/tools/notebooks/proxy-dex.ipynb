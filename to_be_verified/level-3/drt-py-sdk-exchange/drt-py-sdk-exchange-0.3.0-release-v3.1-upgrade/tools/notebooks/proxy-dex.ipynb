{
 "cells": [
  {
   "cell_type": "code",
   "execution_count": null,
   "metadata": {},
   "outputs": [],
   "source": [
    "import sys\n",
    "from pathlib import Path\n",
    "sys.path.append(str(Path.cwd().parent.parent.absolute()))\n",
    "import config\n",
    "\n",
    "from context import Context\n",
    "from utils.utils_chain import WrapperAddress as Address, Account, hex_to_string\n",
    "from utils.utils_chain import nominated_amount\n",
    "from utils.contract_retrievers import retrieve_farm_by_address\n",
    "from utils.utils_chain import get_token_details_for_address, get_all_token_nonces_details_for_account\n",
    "from utils.utils_tx import DCDTToken\n",
    "from contracts.pair_contract import PairContract\n",
    "from contracts.farm_contract import FarmContract, ClaimRewardsFarmEvent, EnterFarmEvent\n",
    "from contracts.dex_proxy_contract import DexProxyContract, DexProxyClaimRewardsEvent, DexProxyEnterFarmEvent, DexProxyExitFarmEvent, DexProxyRemoveLiquidityEvent, DexProxyAddLiquidityEvent\n",
    "from contracts.simple_lock_energy_contract import SimpleLockEnergyContract\n",
    "\n",
    "context = Context()"
   ]
  },
  {
   "cell_type": "code",
   "execution_count": null,
   "metadata": {},
   "outputs": [],
   "source": [
    "farm_contract: FarmContract\n",
    "farm_contract = context.get_contracts(config.FARMS_V2)[0]\n",
    "proxy_contract: DexProxyContract\n",
    "proxy_contract = context.get_contracts(config.PROXIES_V2)[0]\n",
    "pair_contract: PairContract\n",
    "pair_contract = context.get_contracts(config.PAIRS_V2)[0]\n",
    "energy_contract: SimpleLockEnergyContract\n",
    "energy_contract = context.get_contracts(config.SIMPLE_LOCKS_ENERGY)[0]"
   ]
  },
  {
   "cell_type": "markdown",
   "metadata": {},
   "source": [
    "address setup"
   ]
  },
  {
   "cell_type": "code",
   "execution_count": null,
   "metadata": {},
   "outputs": [],
   "source": [
    "user = Account(pem_file=\"~/Documents/sh1.pem\")\n",
    "user.address = Address(\"drt1a2uj4dk8l7kddvzexjzffg6hs227prcd7d7ewmhqqatjt0ur9vuswdqr7t\")\n",
    "user.sync_nonce(context.network_provider.proxy)"
   ]
  },
  {
   "cell_type": "markdown",
   "metadata": {},
   "source": [
    "claim proxy farm rewards"
   ]
  },
  {
   "cell_type": "code",
   "execution_count": null,
   "metadata": {},
   "outputs": [],
   "source": [
    "farm_token_nonce, farm_token_amount, _ = get_token_details_for_address(proxy_contract.proxy_farm_token, user.address.bech32(), context.network_provider.proxy)\n",
    "if farm_token_nonce == 0:\n",
    "    print(\"No farm tokens\")\n",
    "    exit()\n",
    "event = DexProxyClaimRewardsEvent(farm_contract, proxy_contract.proxy_farm_token, farm_token_nonce, farm_token_amount)\n",
    "txhash = proxy_contract.claim_rewards_proxy(user, context.network_provider.proxy, event)"
   ]
  },
  {
   "cell_type": "markdown",
   "metadata": {},
   "source": [
    "exit position"
   ]
  },
  {
   "cell_type": "code",
   "execution_count": null,
   "metadata": {},
   "outputs": [],
   "source": [
    "farm_token_nonce, farm_token_amount, _ = get_token_details_for_address(proxy_contract.proxy_farm_token, user.address.bech32(), context.network_provider.proxy)\n",
    "if farm_token_nonce == 0:\n",
    "    print(\"No farm tokens\")\n",
    "    exit()\n",
    "event = DexProxyExitFarmEvent(farm_contract, proxy_contract.proxy_farm_token, farm_token_nonce, farm_token_amount // 2)\n",
    "txhash = proxy_contract.exit_farm_proxy(user, context.network_provider.proxy, event)"
   ]
  },
  {
   "cell_type": "markdown",
   "metadata": {},
   "source": [
    "enter position"
   ]
  },
  {
   "cell_type": "code",
   "execution_count": null,
   "metadata": {},
   "outputs": [],
   "source": [
    "farming_token_nonce, farming_token_amount, _ = get_token_details_for_address(proxy_contract.proxy_lp_token, user.address.bech32(), context.network_provider.proxy)\n",
    "farm_token_nonce, farm_token_amount, _ = get_token_details_for_address(proxy_contract.proxy_farm_token, user.address.bech32(), context.network_provider.proxy)\n",
    "if farm_token_nonce == 0:\n",
    "    print(\"No farm tokens\")\n",
    "    exit()\n",
    "event = DexProxyEnterFarmEvent(farm_contract, \n",
    "                               proxy_contract.proxy_lp_token, farming_token_nonce, farming_token_amount,\n",
    "                               proxy_contract.proxy_farm_token, farm_token_nonce, farm_token_amount)\n",
    "txhash = proxy_contract.enter_farm_proxy(user, context.network_provider.proxy, event)"
   ]
  },
  {
   "cell_type": "markdown",
   "metadata": {},
   "source": [
    "exit lp position"
   ]
  },
  {
   "cell_type": "code",
   "execution_count": null,
   "metadata": {},
   "outputs": [],
   "source": [
    "farming_token_nonce, farming_token_amount, _ = get_token_details_for_address(proxy_contract.proxy_lp_token, user.address.bech32(), context.network_provider.proxy)\n",
    "if farm_token_nonce == 0:\n",
    "    print(\"No tokens\")\n",
    "    exit()\n",
    "event = DexProxyRemoveLiquidityEvent(pair_contract, farming_token_amount, farming_token_nonce, 1, 1)\n",
    "txhash = proxy_contract.remove_liquidity_proxy(user, context.network_provider.proxy, event)"
   ]
  },
  {
   "cell_type": "markdown",
   "metadata": {},
   "source": [
    "create lp position"
   ]
  },
  {
   "cell_type": "code",
   "execution_count": null,
   "metadata": {},
   "outputs": [],
   "source": [
    "first_token_nonce, first_token_amount, _ = get_token_details_for_address(pair_contract.firstToken, user.address.bech32(), context.network_provider.proxy)\n",
    "\n",
    "xmoa = next(locked_token for locked_token in proxy_contract.locked_tokens if \"XMOA\" in locked_token)\n",
    "xmoa_list = get_all_token_nonces_details_for_account(xmoa, user.address.bech32(), context.network_provider.proxy)\n",
    "biggest_xmoa = {}\n",
    "for xmoa_found in xmoa_list:\n",
    "    # get the highest amount one in the list\n",
    "    if int(xmoa_found['balance']) > int(biggest_xmoa.get('balance', 0)):\n",
    "        biggest_xmoa = xmoa_found\n",
    "second_token_nonce, second_token_amount = biggest_xmoa['nonce'], int(biggest_xmoa['balance'])\n",
    "\n",
    "if first_token_amount == 0 or second_token_amount == 0:\n",
    "    print(f\"No tokens: first token amount: {first_token_amount}; second token amount {second_token_amount}\")\n",
    "    exit()\n",
    "event = DexProxyAddLiquidityEvent(pair_contract, pair_contract.firstToken, first_token_nonce, first_token_amount, 1,\n",
    "                                  xmoa, second_token_nonce, second_token_amount, 1,)\n",
    "txhash = proxy_contract.add_liquidity_proxy(user, context.network_provider.proxy, event)"
   ]
  },
  {
   "cell_type": "markdown",
   "metadata": {},
   "source": [
    "exit position"
   ]
  },
  {
   "cell_type": "code",
   "execution_count": null,
   "metadata": {},
   "outputs": [],
   "source": [
    "farm_token_nonce, farm_token_amount, _ = get_token_details_for_address(proxy_contract.proxy_farm_token, user.address.bech32(), context.network_provider.proxy)\n",
    "if farm_token_nonce == 0:\n",
    "    print(\"No farm tokens\")\n",
    "    exit()\n",
    "event = DexProxyExitFarmEvent(farm_contract, proxy_contract.proxy_farm_token, farm_token_nonce, farm_token_amount)\n",
    "txhash = proxy_contract.exit_farm_proxy(user, context.network_provider.proxy, event)"
   ]
  },
  {
   "cell_type": "markdown",
   "metadata": {},
   "source": [
    "Lock tokens"
   ]
  },
  {
   "cell_type": "code",
   "execution_count": null,
   "metadata": {},
   "outputs": [],
   "source": [
    "_, moa_amount, _ = get_token_details_for_address(proxy_contract.token, user.address.bech32(), context.network_provider.proxy)\n",
    "\n",
    "lockable_tokens = DCDTToken(proxy_contract.token, 0, moa_amount)\n",
    "txhash = energy_contract.lock_tokens(user, context.network_provider.proxy, [[lockable_tokens], 720])"
   ]
  },
  {
   "cell_type": "markdown",
   "metadata": {},
   "source": [
    "create lp position"
   ]
  },
  {
   "cell_type": "code",
   "execution_count": null,
   "metadata": {},
   "outputs": [],
   "source": [
    "first_token_nonce, first_token_amount, _ = get_token_details_for_address(pair_contract.firstToken, user.address.bech32(), context.network_provider.proxy)\n",
    "\n",
    "xmoa = next(locked_token for locked_token in proxy_contract.locked_tokens if \"XMOA\" in locked_token)\n",
    "xmoa_list = get_all_token_nonces_details_for_account(xmoa, user.address.bech32(), context.network_provider.proxy)\n",
    "biggest_xmoa = {}\n",
    "for xmoa_found in xmoa_list:\n",
    "    # get a specific xmoa nonce from the list\n",
    "    if int(xmoa_found['nonce']) == 17:\n",
    "        biggest_xmoa = xmoa_found\n",
    "second_token_nonce, second_token_amount = biggest_xmoa['nonce'], int(biggest_xmoa['balance'])\n",
    "\n",
    "if first_token_amount == 0 or second_token_amount == 0:\n",
    "    print(f\"No tokens: first token amount: {first_token_amount}; second token amount {second_token_amount}\")\n",
    "    exit()\n",
    "event = DexProxyAddLiquidityEvent(pair_contract, pair_contract.firstToken, first_token_nonce, first_token_amount, 1,\n",
    "                                  xmoa, second_token_nonce, second_token_amount, 1,)\n",
    "txhash = proxy_contract.add_liquidity_proxy(user, context.network_provider.proxy, event)"
   ]
  },
  {
   "cell_type": "markdown",
   "metadata": {},
   "source": [
    "enter new position"
   ]
  },
  {
   "cell_type": "code",
   "execution_count": null,
   "metadata": {},
   "outputs": [],
   "source": [
    "farming_token_nonce, farming_token_amount, _ = get_token_details_for_address(proxy_contract.proxy_lp_token, user.address.bech32(), context.network_provider.proxy)\n",
    "event = DexProxyEnterFarmEvent(farm_contract, \n",
    "                               proxy_contract.proxy_lp_token, farming_token_nonce, farming_token_amount // 2,\n",
    "                               \"\", 0, 0)\n",
    "txhash = proxy_contract.enter_farm_proxy(user, context.network_provider.proxy, event)"
   ]
  },
  {
   "cell_type": "markdown",
   "metadata": {},
   "source": [
    "merge position"
   ]
  },
  {
   "cell_type": "code",
   "execution_count": null,
   "metadata": {},
   "outputs": [],
   "source": [
    "farming_token_nonce, farming_token_amount, _ = get_token_details_for_address(proxy_contract.proxy_lp_token, user.address.bech32(), context.network_provider.proxy)\n",
    "farm_token_nonce, farm_token_amount, _ = get_token_details_for_address(proxy_contract.proxy_farm_token, user.address.bech32(), context.network_provider.proxy)\n",
    "if farm_token_nonce == 0:\n",
    "    print(\"No farm tokens\")\n",
    "    exit()\n",
    "event = DexProxyEnterFarmEvent(farm_contract, \n",
    "                               proxy_contract.proxy_lp_token, farming_token_nonce, farming_token_amount,\n",
    "                               proxy_contract.proxy_farm_token, farm_token_nonce, farm_token_amount)\n",
    "txhash = proxy_contract.enter_farm_proxy(user, context.network_provider.proxy, event)"
   ]
  },
  {
   "cell_type": "markdown",
   "metadata": {},
   "source": [
    "increase proxy lp energy"
   ]
  },
  {
   "cell_type": "code",
   "execution_count": null,
   "metadata": {},
   "outputs": [],
   "source": [
    "from utils.utils_chain import dec_to_padded_hex\n",
    "epochs_increase = 360\n",
    "\n",
    "farming_token_nonce, farming_token_amount, _ = get_token_details_for_address(proxy_contract.proxy_lp_token, user.address.bech32(), context.network_provider.proxy)\n",
    "if farming_token_nonce == 0:\n",
    "    print(\"No tokens\")\n",
    "    exit()\n",
    "\n",
    "print(f\"User has {farming_token_amount} farming tokens with nonce {dec_to_padded_hex(farming_token_nonce)}\")\n",
    "txhash = proxy_contract.increase_proxy_lp_token_energy(user, context.network_provider.proxy, \n",
    "                                                       [[DCDTToken(proxy_contract.proxy_lp_token, farming_token_nonce, farming_token_amount)],\n",
    "                                                        epochs_increase])"
   ]
  },
  {
   "cell_type": "code",
   "execution_count": null,
   "metadata": {},
   "outputs": [],
   "source": [
    "epochs_increase = 360\n",
    "\n",
    "txhash = proxy_contract.increase_proxy_lp_token_energy(user, context.network_provider.proxy, \n",
    "                                                       [[DCDTToken(\"LKLP-03a2fa\", 625343, 44304399799466962)],\n",
    "                                                        epochs_increase])"
   ]
  },
  {
   "cell_type": "markdown",
   "metadata": {},
   "source": [
    "increase proxy farm energy"
   ]
  },
  {
   "cell_type": "code",
   "execution_count": null,
   "metadata": {},
   "outputs": [],
   "source": [
    "from utils.utils_chain import dec_to_padded_hex\n",
    "from dharitri_sdk import ApiNetworkProvider\n",
    "import time\n",
    "epochs_increase = 360\n",
    "token_percentage_to_use = 50\n",
    "looking_for_nonce = \"0\"\n",
    "\n",
    "current_user_energy = energy_contract.get_energy_for_user(context.network_provider.proxy, user.address.bech32())\n",
    "print(current_user_energy)\n",
    "\n",
    "def get_token(token: str, nonce: int = 0):\n",
    "    farm_token_nonce, farm_token_amount = 0, 0\n",
    "\n",
    "    if nonce > 0:\n",
    "        # looking for a specific token nonce\n",
    "        farm_token_nonce = nonce\n",
    "        all_tokens = get_all_token_nonces_details_for_account(token, user.address.bech32(), context.network_provider.proxy)\n",
    "        for token in all_tokens:\n",
    "            if token['nonce'] == farm_token_nonce:\n",
    "                farm_token_amount = int(token['balance'])\n",
    "    else:\n",
    "        # looking for whatever token in account\n",
    "        farm_token_nonce, farm_token_amount, _ = get_token_details_for_address(token, user.address.bech32(), context.network_provider.proxy)\n",
    "\n",
    "    return farm_token_nonce, farm_token_amount\n",
    "\n",
    "farm_token_nonce, farm_token_amount = get_token(proxy_contract.proxy_farm_token, int(looking_for_nonce, 16))\n",
    "\n",
    "if farm_token_amount == 0:\n",
    "    print(\"No tokens\")\n",
    "    exit()\n",
    "\n",
    "print(f\"User has {farm_token_amount} tokens with nonce {dec_to_padded_hex(farm_token_nonce)}\")\n",
    "\n",
    "mainnet_api = ApiNetworkProvider(\"https://api.dharitri.org\")\n",
    "farm_dec_attributes, lp_dec_attributes, lktk_dec_attributes = proxy_contract.get_all_decoded_farm_token_attributes_from_api(mainnet_api, farm_token_nonce)\n",
    "print(f\"Underlying token unlock epoch: {lktk_dec_attributes.get('unlock_epoch')}\")\n",
    "\n",
    "used_token_amount = farm_token_amount * token_percentage_to_use // 100\n",
    "txhash = proxy_contract.increase_proxy_farm_token_energy(user, context.network_provider.proxy, \n",
    "                                                       [[DCDTToken(proxy_contract.proxy_farm_token, farm_token_nonce, used_token_amount)],\n",
    "                                                        epochs_increase])\n",
    "\n",
    "time.sleep(10 if user.address.get_shard() == 1 else 50)\n",
    "\n",
    "new_user_energy = energy_contract.get_energy_for_user(context.network_provider.proxy, user.address.bech32())\n",
    "print(new_user_energy)\n",
    "\n",
    "op_to_look_for = { # Transfer the new proxy farm token to user\n",
    "        \"action\": \"transfer\",\n",
    "        \"sender\": proxy_contract.address,\n",
    "        \"receiver\": user.address.bech32(),\n",
    "        \"collection\": proxy_contract.proxy_farm_token,\n",
    "        \"value\": str(used_token_amount)\n",
    "    }\n",
    "new_token = get_tx_op(txhash, op_to_look_for).get('identifier')\n",
    "new_farm_dec_attributes, new_lp_dec_attributes, new_lktk_dec_attributes = proxy_contract.get_all_decoded_farm_token_attributes_from_api(context.network_provider.api, int(new_token.split(\"-\")[2], 16))\n",
    "energy_difference = new_user_energy.get('amount') - current_user_energy.get('amount')\n",
    "\n",
    "print(f\"Energy difference: {energy_difference}\")\n",
    "print(f'New underlying token unlock epoch: {new_lktk_dec_attributes.get(\"unlock_epoch\")}')\n",
    "\n",
    "used_lp_tokens = int(farm_dec_attributes.get('proxy_token_amount') * used_token_amount // farm_dec_attributes.get('farm_token_amount'))\n",
    "used_locked_tokens = int(lp_dec_attributes.get('locked_tokens_amount') * used_lp_tokens // lp_dec_attributes.get('lp_token_amount'))\n",
    "\n",
    "expected_energy = (int(new_lktk_dec_attributes.get('unlock_epoch')) - int(lktk_dec_attributes.get('unlock_epoch'))) * used_locked_tokens\n",
    "print(f\"Expected energy: {expected_energy}\")\n",
    "assert energy_difference == expected_energy"
   ]
  },
  {
   "cell_type": "markdown",
   "metadata": {},
   "source": [
    "Decode XMOAFARM"
   ]
  },
  {
   "cell_type": "code",
   "execution_count": null,
   "metadata": {},
   "outputs": [],
   "source": []
  },
  {
   "cell_type": "code",
   "execution_count": null,
   "metadata": {},
   "outputs": [],
   "source": [
    "from dharitri_sdk import ApiNetworkProvider\n",
    "\n",
    "token_nonce = \"048c04\"\n",
    "\n",
    "mainnet_api = ApiNetworkProvider(\"https://api.dharitri.org\")\n",
    "print(proxy_contract.get_all_decoded_farm_token_attributes_from_api(context.network_provider.api, int(token_nonce, 16)))"
   ]
  },
  {
   "cell_type": "markdown",
   "metadata": {},
   "source": [
    "Decode XMOALP"
   ]
  },
  {
   "cell_type": "code",
   "execution_count": null,
   "metadata": {},
   "outputs": [],
   "source": [
    "from dharitri_sdk import ApiNetworkProvider\n",
    "\n",
    "token_nonce = \"2173\"\n",
    "\n",
    "mainnet_api = ApiNetworkProvider(\"https://api.dharitri.org\")\n",
    "print(proxy_contract.get_all_decoded_lp_token_attributes_from_api(mainnet_api, int(token_nonce, 16)))"
   ]
  },
  {
   "cell_type": "markdown",
   "metadata": {},
   "source": [
    "XFARM Transaction checker"
   ]
  },
  {
   "cell_type": "code",
   "execution_count": null,
   "metadata": {},
   "outputs": [],
   "source": [
    "from utils.utils_chain import dec_to_padded_hex\n",
    "\n",
    "tx_hash = \"1194df153273bf13b40f25eeb282a34a364109358fec5258b76024af1bd0ecf0\"\n",
    "mainnet_api = ApiNetworkProvider(\"https://api.dharitri.org\")\n",
    "used_api = context.network_provider.api\n",
    "\n",
    "# Get the transaction details\n",
    "tx = context.network_provider.api.get_transaction(tx_hash)\n",
    "energy_contract = context.get_contracts(config.SIMPLE_LOCKS_ENERGY)[0]\n",
    "\n",
    "# Get transaction inputs\n",
    "sender = tx.sender.bech32()\n",
    "payment = tx.raw_response['action']['arguments']['transfers'][0]['identifier']\n",
    "payment_value = tx.raw_response['action']['arguments']['transfers'][0]['value']\n",
    "\n",
    "xmoafarm_decode, xmoalp_decode, lktoken_decode = proxy_contract.get_all_decoded_farm_token_attributes_from_api(used_api, \n",
    "                                                                                                                   int(payment.split(\"-\")[2], 16))\n",
    "\n",
    "rated_lp_tokens = int(xmoafarm_decode.get('proxy_token_amount') * int(payment_value) // xmoafarm_decode.get('farm_token_amount'))\n",
    "# rated_loked_tokens = int(xmoalp_decode.get('locked_tokens_amount') * (int(payment_value) / xmoafarm_decode.get('farm_token_amount')) * (xmoafarm_decode.get('proxy_token_amount') / xmoalp_decode.get('lp_token_amount')))\n",
    "rated_loked_tokens = int(xmoalp_decode.get('locked_tokens_amount') * rated_lp_tokens // xmoalp_decode.get('lp_token_amount'))\n",
    "\n",
    "expected_ops = [\n",
    "    { # User transfer the farm token to the proxy contract\n",
    "        \"action\": \"transfer\",\n",
    "        \"sender\": sender,\n",
    "        \"receiver\": proxy_contract.address,\n",
    "        \"identifier\": payment,\n",
    "        \"value\": str(payment_value)\n",
    "    },\n",
    "    { # Proxy contract burns the original proxy farm token\n",
    "        \"action\": \"burn\",\n",
    "        \"sender\": proxy_contract.address,\n",
    "        \"identifier\": payment,\n",
    "        \"value\": str(payment_value)\n",
    "    },\n",
    "    { # Proxy contract burns the original proxy lp token\n",
    "        \"action\": \"burn\",\n",
    "        \"sender\": proxy_contract.address,\n",
    "        \"identifier\": f\"{xmoafarm_decode.get('proxy_token_id')}-{dec_to_padded_hex(xmoafarm_decode.get('proxy_token_nonce'))}\",\n",
    "        \"value\": str(rated_lp_tokens)\n",
    "    },\n",
    "    { # Proxy contract transfers the original xmoa to energy contract\n",
    "        \"action\": \"transfer\",\n",
    "        \"sender\": proxy_contract.address,\n",
    "        \"receiver\": energy_contract.address,\n",
    "        \"identifier\": f\"{xmoalp_decode.get('locked_tokens_id')}-{dec_to_padded_hex(xmoalp_decode.get('locked_tokens_nonce'))}\",\n",
    "        \"value\": str(rated_loked_tokens)\n",
    "    },\n",
    "    { # Energy contract burns the original xmoa\n",
    "        \"action\": \"burn\",\n",
    "        \"sender\": energy_contract.address,\n",
    "        \"identifier\": f\"{xmoalp_decode.get('locked_tokens_id')}-{dec_to_padded_hex(xmoalp_decode.get('locked_tokens_nonce'))}\",\n",
    "        \"value\": str(rated_loked_tokens)\n",
    "    },\n",
    "    { # Energy contract adds new xmoa with increased energy\n",
    "        \"action\": \"addQuantity\",\n",
    "        \"sender\": energy_contract.address,\n",
    "        \"collection\": xmoalp_decode.get('locked_tokens_id'),\n",
    "        \"value\": str(rated_loked_tokens)\n",
    "    },\n",
    "    { # Energy contract transfers the new xmoa to the proxy contract\n",
    "        \"action\": \"transfer\",\n",
    "        \"sender\": energy_contract.address,\n",
    "        \"receiver\": proxy_contract.address,\n",
    "        \"collection\": xmoalp_decode.get('locked_tokens_id'),\n",
    "        \"value\": str(rated_loked_tokens)\n",
    "    },\n",
    "    { # Proxy contract creates new proxy lp token\n",
    "        \"action\": \"create\",\n",
    "        \"sender\": proxy_contract.address,\n",
    "        \"collection\": proxy_contract.proxy_lp_token,\n",
    "        \"value\": str(rated_lp_tokens)\n",
    "    },\n",
    "    { # Proxy contract creates the new proxy farm token\n",
    "        \"action\": \"create\",\n",
    "        \"sender\": proxy_contract.address,\n",
    "        \"collection\": proxy_contract.proxy_farm_token,\n",
    "        \"value\": str(payment_value)\n",
    "    },\n",
    "    { # Transfer the new proxy farm token to user\n",
    "        \"action\": \"transfer\",\n",
    "        \"sender\": proxy_contract.address,\n",
    "        \"receiver\": sender,\n",
    "        \"collection\": proxy_contract.proxy_farm_token,\n",
    "        \"value\": str(payment_value)\n",
    "    },\n",
    "]\n",
    "\n",
    "# Get and check transaction operations\n",
    "ops = tx.raw_response['operations']\n",
    "\n",
    "if len(ops) != len(expected_ops):\n",
    "    print(\"Difference in number of operations found\")\n",
    "\n",
    "# Take each operation and match it with the ones in expected ops. Try to match only the fields expected in each expected ops. \n",
    "# Operations are unordered. If all operations match, the transaction is valid.\n",
    "for op in ops:\n",
    "    found = False\n",
    "    matched = True\n",
    "    # print(op)\n",
    "    for expected_op in expected_ops:\n",
    "        # print(f'Matching with {expected_op}')\n",
    "        if all(op.get(key) == expected_op.get(key) for key in expected_op.keys()):\n",
    "            found = True\n",
    "            expected_ops.remove(expected_op)\n",
    "            break\n",
    "    if not found:\n",
    "        print(f\"Operation not matched {op}\")\n",
    "\n",
    "if len(expected_ops) == 0:\n",
    "    print(\"All expected operations matched\")\n",
    "else:\n",
    "    for op in expected_ops:\n",
    "        print(f\"Remaining operation in tx: {op}\")"
   ]
  },
  {
   "cell_type": "markdown",
   "metadata": {},
   "source": [
    "TX Ops finder"
   ]
  },
  {
   "cell_type": "code",
   "execution_count": null,
   "metadata": {},
   "outputs": [],
   "source": [
    "from utils.utils_chain import dec_to_padded_hex\n",
    "\n",
    "def get_tx_op(tx_hash: str, operation: dict) -> dict:\n",
    "    used_api = context.network_provider.api\n",
    "\n",
    "    # Get the transaction details\n",
    "    tx = used_api.get_transaction(tx_hash)\n",
    "\n",
    "    # Get and check transaction operations\n",
    "    ops = tx.raw_response['operations']\n",
    "\n",
    "    # Take each op in ops and match it with operation. Try to match only the fields expected in operation dictionary. \n",
    "    # TX Operations are unordered. If any of the operations match, return it.\n",
    "    for op in ops:\n",
    "        # print(f'Matching with {operation}')\n",
    "        if all(op.get(key) == operation.get(key) for key in operation.keys()):\n",
    "            return op"
   ]
  },
  {
   "cell_type": "markdown",
   "metadata": {},
   "source": [
    "State"
   ]
  },
  {
   "cell_type": "code",
   "execution_count": null,
   "metadata": {},
   "outputs": [],
   "source": [
    "from contracts.simple_lock_energy_contract import SimpleLockEnergyContract\n",
    "\n",
    "energy_contract: SimpleLockEnergyContract = context.get_contracts(config.SIMPLE_LOCKS_ENERGY)[0]\n",
    "\n",
    "energy_contract.get_energy_for_user(context.network_provider.proxy, user.address.bech32())"
   ]
  },
  {
   "cell_type": "markdown",
   "metadata": {},
   "source": [
    "XMOA Token searcher"
   ]
  },
  {
   "cell_type": "code",
   "execution_count": null,
   "metadata": {},
   "outputs": [],
   "source": [
    "from utils.decoding_structures import XMOA_ATTRIBUTES\n",
    "from utils.utils_chain import decode_merged_attributes\n",
    "from utils.utils_chain import base64_to_hex\n",
    "from dharitri_sdk import ApiNetworkProvider\n",
    "\n",
    "searched_offset = 30\n",
    "\n",
    "energy_contract = context.get_contracts(config.SIMPLE_LOCKS_ENERGY)[0]\n",
    "locked_token = energy_contract.locked_token\n",
    "\n",
    "# get current epoch\n",
    "main_api = ApiNetworkProvider(\"https://api.dharitri.org\")\n",
    "current_epoch = context.network_provider.proxy.get_network_status(1).epoch_number\n",
    "print(f'Current epoch: {current_epoch}')\n",
    "\n",
    "for i in range(1, 10000):\n",
    "    result = main_api.get_non_fungible_token(locked_token, i)\n",
    "    if result:\n",
    "        decoded_data = decode_merged_attributes(base64_to_hex(result.attributes), XMOA_ATTRIBUTES)\n",
    "        print(i, decoded_data)\n",
    "        if current_epoch < decoded_data['unlock_epoch'] < current_epoch + searched_offset:\n",
    "            print(i)\n",
    "        if decoded_data['unlock_epoch'] < current_epoch:\n",
    "            print(i)\n",
    "            break\n",
    "    "
   ]
  },
  {
   "cell_type": "markdown",
   "metadata": {},
   "source": [
    "XMOAFARM Token searcher"
   ]
  },
  {
   "cell_type": "markdown",
   "metadata": {},
   "source": []
  },
  {
   "cell_type": "code",
   "execution_count": null,
   "metadata": {},
   "outputs": [],
   "source": [
    "from utils.decoding_structures import XMOA_ATTRIBUTES\n",
    "from utils.utils_chain import decode_merged_attributes\n",
    "from utils.utils_chain import base64_to_hex\n",
    "from dharitri_sdk import ApiNetworkProvider\n",
    "from utils.decoding_structures import XMOAFARM_ATTRIBUTES, XMOALP_ATTRIBUTES, XMOA_ATTRIBUTES, LKMOA_ATTRIBUTES\n",
    "from utils.utils_chain import decode_merged_attributes, base64_to_hex, dec_to_padded_hex\n",
    "# Get token details for a given farm token\n",
    "\n",
    "searched_offset = 0\n",
    "\n",
    "energy_contract = context.get_contracts(config.SIMPLE_LOCKS_ENERGY)[0]\n",
    "locked_token = energy_contract.locked_token\n",
    "proxy_contract = context.get_contracts(config.PROXIES_V2)[0]\n",
    "\n",
    "# get current epoch\n",
    "main_api = ApiNetworkProvider('https://api.dharitri.org')\n",
    "used_api = main_api\n",
    "current_epoch = context.network_provider.proxy.get_network_status(1).epoch_number\n",
    "print(f'Current epoch: {current_epoch}')\n",
    "\n",
    "current_nonce = int('0472a0', 16)\n",
    "\n",
    "for i in range(1, 10000):\n",
    "    token_nonce = current_nonce - i\n",
    "    print(f\"Checking token {proxy_contract.proxy_farm_token}-{dec_to_padded_hex(token_nonce)} : {token_nonce}\")\n",
    "    \n",
    "    try:\n",
    "        farm_token_on_network = used_api.get_non_fungible_token(proxy_contract.proxy_farm_token, token_nonce)\n",
    "    except Exception as e:\n",
    "        print(f\"Failed to get token {proxy_contract.proxy_farm_token} with nonce {token_nonce}\")\n",
    "        continue\n",
    "\n",
    "    # Decode the farm token attributes\n",
    "    decoded_xmoa_farm_attributes = decode_merged_attributes(base64_to_hex(farm_token_on_network.attributes), XMOAFARM_ATTRIBUTES)\n",
    "    # print(decoded_xmoa_farm_attributes)\n",
    "\n",
    "    # Decode the LP token attributes\n",
    "    xmoa_lp_token_id = decoded_xmoa_farm_attributes.get('proxy_token_id')\n",
    "    if xmoa_lp_token_id != proxy_contract.proxy_lp_token:\n",
    "        print(f\"FAIL!!! Wrong token contained by XMOAFARM token: {xmoa_lp_token_id} expected {proxy_contract.proxy_lp_token}\")\n",
    "\n",
    "    try:\n",
    "        lp_token_on_network = used_api.get_non_fungible_token(xmoa_lp_token_id, decoded_xmoa_farm_attributes.get('proxy_token_nonce'))\n",
    "    except Exception as e:\n",
    "        print(f\"Failed to get token {xmoa_lp_token_id} with nonce {decoded_xmoa_farm_attributes.get('proxy_token_nonce')}\")\n",
    "        continue\n",
    "\n",
    "    decoded_xmoa_lp_attributes = decode_merged_attributes(base64_to_hex(lp_token_on_network.attributes), XMOALP_ATTRIBUTES)\n",
    "    # print(decoded_xmoa_lp_attributes)\n",
    "\n",
    "    # Decode the XMOA token attributes\n",
    "    xmoa_token_id = decoded_xmoa_lp_attributes.get('locked_tokens_id')\n",
    "\n",
    "    xmoa_token_on_network = used_api.get_non_fungible_token(xmoa_token_id, decoded_xmoa_lp_attributes.get('locked_tokens_nonce'))\n",
    "\n",
    "    if \"XMOA\" in xmoa_token_id:\n",
    "        decoded_attributes = decode_merged_attributes(base64_to_hex(xmoa_token_on_network.attributes), XMOA_ATTRIBUTES)\n",
    "    if \"LKMOA\" in xmoa_token_id:\n",
    "        decoded_attributes = decode_merged_attributes(base64_to_hex(xmoa_token_on_network.attributes), LKMOA_ATTRIBUTES)\n",
    "        print(decoded_attributes)\n",
    "\n",
    "    if decoded_attributes.get('unlock_epoch', 10000000000) < current_epoch + searched_offset:\n",
    "        print(f\"Found token {token_nonce} : {dec_to_padded_hex(token_nonce)} with unlock epoch: {decoded_attributes.get('unlock_epoch')}\")\n",
    "        continue\n",
    "    "
   ]
  },
  {
   "cell_type": "markdown",
   "metadata": {},
   "source": [
    "XMOALP Token searcher"
   ]
  },
  {
   "cell_type": "code",
   "execution_count": null,
   "metadata": {},
   "outputs": [],
   "source": [
    "from utils.decoding_structures import XMOA_ATTRIBUTES\n",
    "from utils.utils_chain import decode_merged_attributes\n",
    "from utils.utils_chain import base64_to_hex\n",
    "from dharitri_sdk import ApiNetworkProvider\n",
    "from utils.decoding_structures import XMOAFARM_ATTRIBUTES, XMOALP_ATTRIBUTES, XMOA_ATTRIBUTES, LKMOA_ATTRIBUTES\n",
    "from utils.utils_chain import decode_merged_attributes, base64_to_hex, dec_to_padded_hex, WrapperAddress\n",
    "# Get token details for a given farm token\n",
    "\n",
    "searched_offset = 360*3\n",
    "\n",
    "energy_contract = context.get_contracts(config.SIMPLE_LOCKS_ENERGY)[0]\n",
    "locked_token = energy_contract.locked_token\n",
    "proxy_contract = context.get_contracts(config.PROXIES_V2)[0]\n",
    "\n",
    "# get current epoch\n",
    "main_api = ApiNetworkProvider('https://api.dharitri.org')\n",
    "used_api = main_api\n",
    "current_epoch = context.network_provider.proxy.get_network_status(1).epoch_number\n",
    "print(f'Current epoch: {current_epoch}')\n",
    "\n",
    "current_nonce = int('a0a3', 16)\n",
    "\n",
    "for i in range(1, 10000):\n",
    "    token_nonce = current_nonce - i\n",
    "    print(f\"Checking token {proxy_contract.proxy_lp_token}-{dec_to_padded_hex(token_nonce)} : {token_nonce}\")\n",
    "\n",
    "    try:\n",
    "        lp_token_on_network = used_api.get_non_fungible_token(xmoa_lp_token_id, token_nonce)\n",
    "    except Exception as e:\n",
    "        print(f\"Failed to get token {xmoa_lp_token_id} with nonce {token_nonce}\")\n",
    "        continue\n",
    "\n",
    "    decoded_xmoa_lp_attributes = decode_merged_attributes(base64_to_hex(lp_token_on_network.attributes), XMOALP_ATTRIBUTES)\n",
    "    # print(decoded_xmoa_lp_attributes)\n",
    "\n",
    "    # Decode the XMOA token attributes\n",
    "    xmoa_token_id = decoded_xmoa_lp_attributes.get('locked_tokens_id')\n",
    "\n",
    "    xmoa_token_on_network = used_api.get_non_fungible_token(xmoa_token_id, decoded_xmoa_lp_attributes.get('locked_tokens_nonce'))\n",
    "\n",
    "    if \"XMOA\" in xmoa_token_id:\n",
    "        decoded_attributes = decode_merged_attributes(base64_to_hex(xmoa_token_on_network.attributes), XMOA_ATTRIBUTES)\n",
    "    if \"LKMOA\" in xmoa_token_id:\n",
    "        decoded_attributes = decode_merged_attributes(base64_to_hex(xmoa_token_on_network.attributes), LKMOA_ATTRIBUTES)\n",
    "        print(decoded_attributes)\n",
    "\n",
    "    if decoded_attributes.get('unlock_epoch', 10000000000) < current_epoch + searched_offset:\n",
    "        try:\n",
    "            users_raw = used_api.do_get_generic(f\"nfts/{proxy_contract.proxy_lp_token}-{dec_to_padded_hex(token_nonce)}/accounts\")\n",
    "            for user in users_raw:\n",
    "                if not WrapperAddress(user.get('address')).is_smart_contract():\n",
    "                    print(f\"Found token {token_nonce} : {dec_to_padded_hex(token_nonce)} with unlock epoch: {decoded_attributes.get('unlock_epoch')} on account {user.get('address')}\")\n",
    "                    break\n",
    "        except Exception as e:\n",
    "            print(f\"Failed to get users for token {proxy_contract.proxy_lp_token}-{dec_to_padded_hex(token_nonce)}\")\n",
    "        \n",
    "    "
   ]
  }
 ],
 "metadata": {
  "kernelspec": {
   "display_name": "venv-newdrtpy",
   "language": "python",
   "name": "python3"
  },
  "language_info": {
   "codemirror_mode": {
    "name": "ipython",
    "version": 3
   },
   "file_extension": ".py",
   "mimetype": "text/x-python",
   "name": "python",
   "nbconvert_exporter": "python",
   "pygments_lexer": "ipython3",
   "version": "3.12.3"
  },
  "orig_nbformat": 4,
  "vscode": {
   "interpreter": {
    "hash": "7ae6ab0abdf10440b34f03794a69a71508ff61341cacd694fe6034a1a71d3b05"
   }
  }
 },
 "nbformat": 4,
 "nbformat_minor": 2
}
