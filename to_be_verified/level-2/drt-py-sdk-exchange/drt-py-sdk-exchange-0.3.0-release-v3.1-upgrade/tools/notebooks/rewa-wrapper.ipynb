{
 "cells": [
  {
   "cell_type": "markdown",
   "metadata": {},
   "source": [
    "Setup"
   ]
  },
  {
   "cell_type": "code",
   "execution_count": 2,
   "metadata": {},
   "outputs": [],
   "source": [
    "import sys\n",
    "from pathlib import Path\n",
    "sys.path.append(str(Path.cwd().parent.parent.absolute()))\n",
    "import config"
   ]
  },
  {
   "cell_type": "code",
   "execution_count": 3,
   "metadata": {},
   "outputs": [
    {
     "ename": "ModuleNotFoundError",
     "evalue": "No module named 'dharitri_sdk'",
     "output_type": "error",
     "traceback": [
      "\u001b[0;31m---------------------------------------------------------------------------\u001b[0m",
      "\u001b[0;31mModuleNotFoundError\u001b[0m                       Traceback (most recent call last)",
      "Cell \u001b[0;32mIn[3], line 1\u001b[0m\n\u001b[0;32m----> 1\u001b[0m \u001b[38;5;28;01mfrom\u001b[39;00m \u001b[38;5;21;01mcontext\u001b[39;00m \u001b[38;5;28;01mimport\u001b[39;00m Context\n\u001b[1;32m      3\u001b[0m context \u001b[38;5;241m=\u001b[39m Context()\n",
      "File \u001b[0;32m~/Desktop/teja-work/my_python_works/py-team-repos/to_be_verified/level-2/drt-py-sdk-exchange/drt-py-sdk-exchange-0.3.0-release-v3.1-upgrade/context.py:5\u001b[0m\n\u001b[1;32m      2\u001b[0m \u001b[38;5;28;01mfrom\u001b[39;00m \u001b[38;5;21;01mdatetime\u001b[39;00m \u001b[38;5;28;01mimport\u001b[39;00m datetime\n\u001b[1;32m      4\u001b[0m \u001b[38;5;28;01mimport\u001b[39;00m \u001b[38;5;21;01mconfig\u001b[39;00m\n\u001b[0;32m----> 5\u001b[0m \u001b[38;5;28;01mfrom\u001b[39;00m \u001b[38;5;21;01mcontracts\u001b[39;00m\u001b[38;5;21;01m.\u001b[39;00m\u001b[38;5;21;01mfarm_contract\u001b[39;00m \u001b[38;5;28;01mimport\u001b[39;00m FarmContract\n\u001b[1;32m      6\u001b[0m \u001b[38;5;28;01mfrom\u001b[39;00m \u001b[38;5;21;01mcontracts\u001b[39;00m\u001b[38;5;21;01m.\u001b[39;00m\u001b[38;5;21;01mmetastaking_contract\u001b[39;00m \u001b[38;5;28;01mimport\u001b[39;00m MetaStakingContract\n\u001b[1;32m      7\u001b[0m \u001b[38;5;28;01mfrom\u001b[39;00m \u001b[38;5;21;01mcontracts\u001b[39;00m\u001b[38;5;21;01m.\u001b[39;00m\u001b[38;5;21;01mpair_contract\u001b[39;00m \u001b[38;5;28;01mimport\u001b[39;00m PairContract\n",
      "File \u001b[0;32m~/Desktop/teja-work/my_python_works/py-team-repos/to_be_verified/level-2/drt-py-sdk-exchange/drt-py-sdk-exchange-0.3.0-release-v3.1-upgrade/contracts/farm_contract.py:2\u001b[0m\n\u001b[1;32m      1\u001b[0m \u001b[38;5;28;01mimport\u001b[39;00m \u001b[38;5;21;01mconfig\u001b[39;00m\n\u001b[0;32m----> 2\u001b[0m \u001b[38;5;28;01mfrom\u001b[39;00m \u001b[38;5;21;01mcontracts\u001b[39;00m\u001b[38;5;21;01m.\u001b[39;00m\u001b[38;5;21;01mcontract_identities\u001b[39;00m \u001b[38;5;28;01mimport\u001b[39;00m FarmContractVersion, DEXContractInterface\n\u001b[1;32m      3\u001b[0m \u001b[38;5;28;01mfrom\u001b[39;00m \u001b[38;5;21;01mcontracts\u001b[39;00m\u001b[38;5;21;01m.\u001b[39;00m\u001b[38;5;21;01mbase_contracts\u001b[39;00m \u001b[38;5;28;01mimport\u001b[39;00m BaseFarmContract, BaseBoostedContract, BaseSCWhitelistContract\n\u001b[1;32m      4\u001b[0m \u001b[38;5;28;01mfrom\u001b[39;00m \u001b[38;5;21;01mutils\u001b[39;00m \u001b[38;5;28;01mimport\u001b[39;00m decoding_structures\n",
      "File \u001b[0;32m~/Desktop/teja-work/my_python_works/py-team-repos/to_be_verified/level-2/drt-py-sdk-exchange/drt-py-sdk-exchange-0.3.0-release-v3.1-upgrade/contracts/contract_identities.py:4\u001b[0m\n\u001b[1;32m      1\u001b[0m \u001b[38;5;28;01mfrom\u001b[39;00m \u001b[38;5;21;01mabc\u001b[39;00m \u001b[38;5;28;01mimport\u001b[39;00m abstractmethod, ABC\n\u001b[1;32m      2\u001b[0m \u001b[38;5;28;01mfrom\u001b[39;00m \u001b[38;5;21;01menum\u001b[39;00m \u001b[38;5;28;01mimport\u001b[39;00m Enum\n\u001b[0;32m----> 4\u001b[0m \u001b[38;5;28;01mfrom\u001b[39;00m \u001b[38;5;21;01mutils\u001b[39;00m\u001b[38;5;21;01m.\u001b[39;00m\u001b[38;5;21;01mutils_chain\u001b[39;00m \u001b[38;5;28;01mimport\u001b[39;00m Account, WrapperAddress \u001b[38;5;28;01mas\u001b[39;00m Address\n\u001b[1;32m      5\u001b[0m \u001b[38;5;28;01mfrom\u001b[39;00m \u001b[38;5;21;01mutils\u001b[39;00m\u001b[38;5;21;01m.\u001b[39;00m\u001b[38;5;21;01mutils_tx\u001b[39;00m \u001b[38;5;28;01mimport\u001b[39;00m endpoint_call\n\u001b[1;32m      6\u001b[0m \u001b[38;5;28;01mfrom\u001b[39;00m \u001b[38;5;21;01mutils\u001b[39;00m\u001b[38;5;21;01m.\u001b[39;00m\u001b[38;5;21;01mlogger\u001b[39;00m \u001b[38;5;28;01mimport\u001b[39;00m get_logger\n",
      "File \u001b[0;32m~/Desktop/teja-work/my_python_works/py-team-repos/to_be_verified/level-2/drt-py-sdk-exchange/drt-py-sdk-exchange-0.3.0-release-v3.1-upgrade/utils/utils_chain.py:10\u001b[0m\n\u001b[1;32m      7\u001b[0m \u001b[38;5;28;01mfrom\u001b[39;00m \u001b[38;5;21;01mpathlib\u001b[39;00m \u001b[38;5;28;01mimport\u001b[39;00m Path\n\u001b[1;32m      8\u001b[0m \u001b[38;5;28;01mfrom\u001b[39;00m \u001b[38;5;21;01mtyping\u001b[39;00m \u001b[38;5;28;01mimport\u001b[39;00m Any, Dict, List, Optional, Set, Tuple, cast\n\u001b[0;32m---> 10\u001b[0m \u001b[38;5;28;01mfrom\u001b[39;00m \u001b[38;5;21;01mdharitri_sdk\u001b[39;00m \u001b[38;5;28;01mimport\u001b[39;00m (Address, AddressComputer, Message, MessageComputer,\n\u001b[1;32m     11\u001b[0m                             ProxyNetworkProvider, Transaction,\n\u001b[1;32m     12\u001b[0m                             TransactionComputer, UserSigner)\n\u001b[1;32m     13\u001b[0m \u001b[38;5;28;01mfrom\u001b[39;00m \u001b[38;5;21;01mdharitri_sdk\u001b[39;00m\u001b[38;5;21;01m.\u001b[39;00m\u001b[38;5;21;01mwallet\u001b[39;00m\u001b[38;5;21;01m.\u001b[39;00m\u001b[38;5;21;01mpem_entry\u001b[39;00m \u001b[38;5;28;01mimport\u001b[39;00m PemEntry\n\u001b[1;32m     14\u001b[0m \u001b[38;5;28;01mfrom\u001b[39;00m \u001b[38;5;21;01mdharitri_sdk\u001b[39;00m\u001b[38;5;21;01m.\u001b[39;00m\u001b[38;5;21;01mcore\u001b[39;00m\u001b[38;5;21;01m.\u001b[39;00m\u001b[38;5;21;01minterfaces\u001b[39;00m \u001b[38;5;28;01mimport\u001b[39;00m ISignature\n",
      "\u001b[0;31mModuleNotFoundError\u001b[0m: No module named 'dharitri_sdk'"
     ]
    }
   ],
   "source": [
    "from context import Context\n",
    "\n",
    "context = Context()"
   ]
  },
  {
   "cell_type": "code",
   "execution_count": null,
   "metadata": {},
   "outputs": [
    {
     "name": "stderr",
     "output_type": "stream",
     "text": [
      "\u001b[38;20m2023-12-04 14:14:00,211 - DEBUG - Account.sync_nonce() done: 3\u001b[0m\n",
      "\u001b[92m2023-12-04 14:14:00,212 - INFO - deploy RewaWrapContract contract\u001b[0m\n",
      "\u001b[38;20m2023-12-04 14:14:00,213 - DEBUG - Deploy RewaWrapContract\u001b[0m\n",
      "\u001b[38;20m2023-12-04 14:14:00,922 - DEBUG - Deploy arguments: ['WREWA-dd8471']\u001b[0m\n",
      "\u001b[92m2023-12-04 14:14:01,851 - INFO - View this transaction in the DharitrI Testnet Explorer: https://testnet-explorer.dharitri.org/transactions/e0697ad40dcec159af117b0bac6e5196414cc4b8196625402f2938e2ca621d04\u001b[0m\n"
     ]
    },
    {
     "ename": "KeyboardInterrupt",
     "evalue": "",
     "output_type": "error",
     "traceback": [
      "\u001b[0;31m---------------------------------------------------------------------------\u001b[0m",
      "\u001b[0;31mKeyboardInterrupt\u001b[0m                         Traceback (most recent call last)",
      "\u001b[1;32m/home/ovi/projects/dex/drt-py-sdk-exchange/tools/notebooks/rewa-wrapper.ipynb Cell 4\u001b[0m line \u001b[0;36m8\n\u001b[1;32m      <a href='vscode-notebook-cell:/home/ovi/projects/dex/drt-py-sdk-exchange/tools/notebooks/rewa-wrapper.ipynb#X30sZmlsZQ%3D%3D?line=5'>6</a>\u001b[0m owner \u001b[39m=\u001b[39m Account(pem_file\u001b[39m=\u001b[39m\u001b[39m'\u001b[39m\u001b[39m~/Documents/sh2.pem\u001b[39m\u001b[39m'\u001b[39m)\n\u001b[1;32m      <a href='vscode-notebook-cell:/home/ovi/projects/dex/drt-py-sdk-exchange/tools/notebooks/rewa-wrapper.ipynb#X30sZmlsZQ%3D%3D?line=6'>7</a>\u001b[0m owner\u001b[39m.\u001b[39msync_nonce(context\u001b[39m.\u001b[39mnetwork_provider\u001b[39m.\u001b[39mproxy)\n\u001b[0;32m----> <a href='vscode-notebook-cell:/home/ovi/projects/dex/drt-py-sdk-exchange/tools/notebooks/rewa-wrapper.ipynb#X30sZmlsZQ%3D%3D?line=7'>8</a>\u001b[0m \u001b[39mhash\u001b[39m, address \u001b[39m=\u001b[39m contract\u001b[39m.\u001b[39;49mcontract_deploy(owner, context\u001b[39m.\u001b[39;49mnetwork_provider\u001b[39m.\u001b[39;49mproxy, config\u001b[39m.\u001b[39;49mREWA_WRAP_BYTECODE_PATH)\n",
      "File \u001b[0;32m~/projects/dex/drt-py-sdk-exchange/contracts/rewawrap_contract.py:42\u001b[0m, in \u001b[0;36mRewaWrapContract.contract_deploy\u001b[0;34m(self, deployer, proxy, bytecode_path, args)\u001b[0m\n\u001b[1;32m     37\u001b[0m gas_limit \u001b[39m=\u001b[39m \u001b[39m200000000\u001b[39m\n\u001b[1;32m     39\u001b[0m arguments \u001b[39m=\u001b[39m [\n\u001b[1;32m     40\u001b[0m     \u001b[39mself\u001b[39m\u001b[39m.\u001b[39mwrapped_token\n\u001b[1;32m     41\u001b[0m ]\n\u001b[0;32m---> 42\u001b[0m tx_hash, address \u001b[39m=\u001b[39m deploy(\u001b[39mtype\u001b[39;49m(\u001b[39mself\u001b[39;49m)\u001b[39m.\u001b[39;49m\u001b[39m__name__\u001b[39;49m, proxy, gas_limit, deployer, bytecode_path, metadata, arguments)\n\u001b[1;32m     44\u001b[0m \u001b[39mreturn\u001b[39;00m tx_hash, address\n",
      "File \u001b[0;32m~/projects/dex/drt-py-sdk-exchange/utils/utils_tx.py:478\u001b[0m, in \u001b[0;36mdeploy\u001b[0;34m(contract_label, proxy, gas, owner, bytecode_path, metadata, args)\u001b[0m\n\u001b[1;32m    475\u001b[0m tx_hash \u001b[39m=\u001b[39m send_deploy_tx(tx, proxy)\n\u001b[1;32m    477\u001b[0m \u001b[39mif\u001b[39;00m tx_hash:\n\u001b[0;32m--> 478\u001b[0m     contract_address \u001b[39m=\u001b[39m get_deployed_address_from_tx(tx_hash, proxy)\n\u001b[1;32m    479\u001b[0m     owner\u001b[39m.\u001b[39mnonce \u001b[39m+\u001b[39m\u001b[39m=\u001b[39m \u001b[39m1\u001b[39m\n\u001b[1;32m    481\u001b[0m \u001b[39mreturn\u001b[39;00m tx_hash, contract_address\n",
      "File \u001b[0;32m~/projects/dex/drt-py-sdk-exchange/utils/utils_tx.py:540\u001b[0m, in \u001b[0;36mget_deployed_address_from_tx\u001b[0;34m(tx_hash, proxy)\u001b[0m\n\u001b[1;32m    539\u001b[0m \u001b[39mdef\u001b[39;00m \u001b[39mget_deployed_address_from_tx\u001b[39m(tx_hash: \u001b[39mstr\u001b[39m, proxy: ProxyNetworkProvider) \u001b[39m-\u001b[39m\u001b[39m>\u001b[39m \u001b[39mstr\u001b[39m:\n\u001b[0;32m--> 540\u001b[0m     event \u001b[39m=\u001b[39m get_event_from_tx(\u001b[39m\"\u001b[39;49m\u001b[39mSCDeploy\u001b[39;49m\u001b[39m\"\u001b[39;49m, tx_hash, proxy)\n\u001b[1;32m    541\u001b[0m     \u001b[39mif\u001b[39;00m event \u001b[39mis\u001b[39;00m \u001b[39mNone\u001b[39;00m:\n\u001b[1;32m    542\u001b[0m         \u001b[39mreturn\u001b[39;00m \u001b[39m\"\u001b[39m\u001b[39m\"\u001b[39m\n",
      "File \u001b[0;32m~/projects/dex/drt-py-sdk-exchange/utils/utils_tx.py:508\u001b[0m, in \u001b[0;36mget_event_from_tx\u001b[0;34m(event_id, tx_hash, proxy)\u001b[0m\n\u001b[1;32m    506\u001b[0m \u001b[39mdef\u001b[39;00m \u001b[39mget_event_from_tx\u001b[39m(event_id: \u001b[39mstr\u001b[39m, tx_hash: \u001b[39mstr\u001b[39m, proxy: ProxyNetworkProvider) \u001b[39m-\u001b[39m\u001b[39m>\u001b[39m Union[TransactionEvent, \u001b[39mNone\u001b[39;00m]:\n\u001b[1;32m    507\u001b[0m     \u001b[39mtry\u001b[39;00m:\n\u001b[0;32m--> 508\u001b[0m         time\u001b[39m.\u001b[39;49msleep(API_TX_DELAY)\n\u001b[1;32m    509\u001b[0m         \u001b[39mwhile\u001b[39;00m \u001b[39mnot\u001b[39;00m proxy\u001b[39m.\u001b[39mget_transaction_status(tx_hash)\u001b[39m.\u001b[39mis_executed():\n\u001b[1;32m    510\u001b[0m             time\u001b[39m.\u001b[39msleep(\u001b[39m6\u001b[39m)\n",
      "\u001b[0;31mKeyboardInterrupt\u001b[0m: "
     ]
    }
   ],
   "source": [
    "from contracts.rewawrap_contract import RewaWrapContract\n",
    "from utils.utils_chain import Account\n",
    "\n",
    "token = 'WREWA-dd8471'\n",
    "contract = RewaWrapContract(token)\n",
    "owner = Account(pem_file='~/Documents/sh2.pem')\n",
    "owner.sync_nonce(context.network_provider.proxy)\n",
    "hash, address = contract.contract_deploy(owner, context.network_provider.proxy, config.REWA_WRAP_BYTECODE_PATH)"
   ]
  },
  {
   "cell_type": "code",
   "execution_count": null,
   "metadata": {},
   "outputs": [],
   "source": [
    "from contracts.builtin_contracts import DCDTContract\n",
    "\n",
    "dcdt_contract = DCDTContract(config.TOKENS_CONTRACT_ADDRESS)\n",
    "context.deployer_account.sync_nonce(context.network_provider.proxy)\n",
    "tx_hash = dcdt_contract.set_special_role_token(context.deployer_account, context.network_provider.proxy,\n",
    "                                               [token, address, \"DCDTRoleLocalMint\", \"DCDTRoleLocalBurn\"])\n"
   ]
  },
  {
   "cell_type": "code",
   "execution_count": null,
   "metadata": {},
   "outputs": [],
   "source": [
    "contract.address = address\n",
    "contract.resume(owner, context.network_provider.proxy)"
   ]
  },
  {
   "cell_type": "code",
   "execution_count": null,
   "metadata": {},
   "outputs": [],
   "source": [
    "from utils.utils_tx import endpoint_call\n",
    "from utils.utils_chain import WrapperAddress\n",
    "\n",
    "endpoint_call(context.network_provider.proxy, 50000000, owner, WrapperAddress(contract.address), \"ChangeOwnerAddress\", [context.deployer_account.address.bech32()])"
   ]
  },
  {
   "attachments": {},
   "cell_type": "markdown",
   "metadata": {},
   "source": [
    "Token transfer"
   ]
  }
 ],
 "metadata": {
  "kernelspec": {
   "display_name": "Python 3",
   "language": "python",
   "name": "python3"
  },
  "language_info": {
   "codemirror_mode": {
    "name": "ipython",
    "version": 3
   },
   "file_extension": ".py",
   "mimetype": "text/x-python",
   "name": "python",
   "nbconvert_exporter": "python",
   "pygments_lexer": "ipython3",
   "version": "3.10.12"
  },
  "orig_nbformat": 4
 },
 "nbformat": 4,
 "nbformat_minor": 2
}
