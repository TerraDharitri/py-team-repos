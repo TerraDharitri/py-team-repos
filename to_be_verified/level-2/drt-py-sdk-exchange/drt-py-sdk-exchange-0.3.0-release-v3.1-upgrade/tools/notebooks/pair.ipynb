{
 "cells": [
  {
   "cell_type": "code",
   "execution_count": null,
   "metadata": {},
   "outputs": [],
   "source": [
    "import sys\n",
    "from pathlib import Path\n",
    "sys.path.append(str(Path.cwd().parent.parent.absolute()))\n",
    "import config"
   ]
  },
  {
   "cell_type": "code",
   "execution_count": null,
   "metadata": {},
   "outputs": [],
   "source": [
    "from context import Context\n",
    "\n",
    "context = Context()"
   ]
  },
  {
   "attachments": {},
   "cell_type": "markdown",
   "metadata": {},
   "source": [
    "FEES setup for pairs"
   ]
  },
  {
   "cell_type": "code",
   "execution_count": null,
   "metadata": {},
   "outputs": [],
   "source": [
    "from contracts.pair_contract import PairContract\n",
    "from utils.contract_retrievers import retrieve_pair_by_address\n",
    "\n",
    "pair_contract: PairContract\n",
    "pair_contract = retrieve_pair_by_address(\"drt1qqqqqqqqqqqqqpgqph6g8569lnvpgd3x569hd6n6qse2aw0w0n4sxvdspj\")    # operating pair\n",
    "moa_contract = retrieve_pair_by_address(\"drt1qqqqqqqqqqqqqpgqa0fsfshnff4n76jhcye6k7uvd7qacsq42jpsux8555\") # REWAMOA contract"
   ]
  },
  {
   "cell_type": "code",
   "execution_count": null,
   "metadata": {},
   "outputs": [],
   "source": [
    "from contracts.pair_contract import PairContract\n",
    "from utils.contract_retrievers import retrieve_pair_by_address\n",
    "\n",
    "pair_contract: PairContract\n",
    "pair_contract = retrieve_pair_by_address(\"drt1qqqqqqqqqqqqqpgq0e9pmlzr0nk5nkulzcmessttsjkzr4xf0n4sp9zqy8\")    # operating pair"
   ]
  },
  {
   "cell_type": "code",
   "execution_count": null,
   "metadata": {},
   "outputs": [],
   "source": [
    "# whitelist in REWAMOA pair for swap no fees\n",
    "moa_contract.whitelist_contract(context.deployer_account, context.network_provider.proxy, pair_contract.address)"
   ]
  },
  {
   "cell_type": "code",
   "execution_count": null,
   "metadata": {},
   "outputs": [],
   "source": [
    "# set where to swap and what to do with the fees\n",
    "pair_contract.add_trusted_swap_pair(context.deployer_account, context.network_provider.proxy,\n",
    "                                    [\n",
    "                                        moa_contract.address,\n",
    "                                        moa_contract.firstToken,\n",
    "                                        moa_contract.secondToken\n",
    "                                    ])"
   ]
  },
  {
   "cell_type": "code",
   "execution_count": null,
   "metadata": {},
   "outputs": [],
   "source": [
    "pair_contract.set_fees_percents(context.deployer_account, context.network_provider.proxy,\n",
    "                                [300, 100])"
   ]
  },
  {
   "cell_type": "code",
   "execution_count": null,
   "metadata": {},
   "outputs": [],
   "source": [
    "from contracts.router_contract import RouterContract\n",
    "router_contract: RouterContract\n",
    "router_contract = context.get_contracts(config.ROUTER_V2)[0]\n",
    "\n",
    "pair_contract.set_fee_on_via_router(context.deployer_account, context.network_provider.proxy, router_contract, \n",
    "                                [\n",
    "                                    config.ZERO_CONTRACT_ADDRESS,\n",
    "                                    moa_contract.secondToken\n",
    "                                ])"
   ]
  },
  {
   "cell_type": "code",
   "execution_count": null,
   "metadata": {},
   "outputs": [],
   "source": [
    "from contracts.pair_contract import AddLiquidityEvent\n",
    "\n",
    "event = AddLiquidityEvent(pair_contract.firstToken, 127791780000000000000, 1, pair_contract.secondToken, 5000000000000000000, 1)\n",
    "pair_contract.add_liquidity(context.network_provider, context.deployer_account, event)"
   ]
  },
  {
   "cell_type": "code",
   "execution_count": null,
   "metadata": {},
   "outputs": [],
   "source": [
    "pair_contract.resume(context.deployer_account, context.network_provider.proxy)"
   ]
  }
 ],
 "metadata": {
  "kernelspec": {
   "display_name": "venv-newdrtpy",
   "language": "python",
   "name": "python3"
  },
  "language_info": {
   "codemirror_mode": {
    "name": "ipython",
    "version": 3
   },
   "file_extension": ".py",
   "mimetype": "text/x-python",
   "name": "python",
   "nbconvert_exporter": "python",
   "pygments_lexer": "ipython3",
   "version": "3.11.6"
  },
  "orig_nbformat": 4,
  "vscode": {
   "interpreter": {
    "hash": "7ae6ab0abdf10440b34f03794a69a71508ff61341cacd694fe6034a1a71d3b05"
   }
  }
 },
 "nbformat": 4,
 "nbformat_minor": 2
}
