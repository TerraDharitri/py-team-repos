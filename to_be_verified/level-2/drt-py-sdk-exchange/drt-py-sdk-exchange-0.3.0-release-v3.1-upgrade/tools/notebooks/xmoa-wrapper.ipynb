{
 "cells": [
  {
   "cell_type": "code",
   "execution_count": null,
   "metadata": {},
   "outputs": [],
   "source": [
    "import sys\n",
    "from pathlib import Path\n",
    "sys.path.append(str(Path.cwd().parent.parent.absolute()))"
   ]
  },
  {
   "cell_type": "markdown",
   "metadata": {},
   "source": [
    "Framework based interaction"
   ]
  },
  {
   "cell_type": "code",
   "execution_count": null,
   "metadata": {},
   "outputs": [],
   "source": [
    "import sys\n",
    "from pathlib import Path\n",
    "sys.path.append(str(Path.cwd().parent.parent.absolute()))\n",
    "import config"
   ]
  },
  {
   "cell_type": "code",
   "execution_count": null,
   "metadata": {},
   "outputs": [],
   "source": [
    "from context import Context\n",
    "\n",
    "context = Context()"
   ]
  },
  {
   "cell_type": "code",
   "execution_count": null,
   "metadata": {},
   "outputs": [],
   "source": [
    "from contracts.lk_wrap_contract import LkWrapContract\n",
    "from contracts.simple_lock_energy_contract import SimpleLockEnergyContract\n",
    "\n",
    "contract: LkWrapContract = context.get_contracts(config.LK_WRAPS)[0]\n",
    "energy_contract: SimpleLockEnergyContract = context.get_contracts(config.SIMPLE_LOCKS_ENERGY)[0]\n",
    "locked_token = energy_contract.locked_token"
   ]
  },
  {
   "cell_type": "markdown",
   "metadata": {},
   "source": [
    "upgrade contract"
   ]
  },
  {
   "cell_type": "code",
   "execution_count": null,
   "metadata": {},
   "outputs": [],
   "source": [
    "context.deployer_account.sync_nonce(context.network_provider.proxy)\n",
    "hash = contract.contract_upgrade(context.deployer_account, context.network_provider.proxy, config.ESCROW_BYTECODE_PATH, [])"
   ]
  },
  {
   "cell_type": "markdown",
   "metadata": {},
   "source": [
    "Low level interaction"
   ]
  },
  {
   "cell_type": "code",
   "execution_count": null,
   "metadata": {},
   "outputs": [],
   "source": [
    "from dharitri_sdk import TokenPayment, ProxyNetworkProvider\n",
    "from dharitri_sdk.core.transaction_builders import ContractCallBuilder, DCDTNFTTransferBuilder\n",
    "from dharitri_sdk.core.transaction_builders import DefaultTransactionBuildersConfiguration\n",
    "from tools.notebooks import env\n",
    "\n",
    "config = DefaultTransactionBuildersConfiguration(chain_id=env.CHAIN_ID)\n",
    "proxy = ProxyNetworkProvider(env.PROXY_URL)"
   ]
  },
  {
   "cell_type": "code",
   "execution_count": null,
   "metadata": {},
   "outputs": [],
   "source": [
    "contract_address = env.WRAPPER_CONTRACT\n",
    "XMOA = env.XMOA\n",
    "WXMOA = env.WXMOA"
   ]
  },
  {
   "cell_type": "code",
   "execution_count": null,
   "metadata": {},
   "outputs": [],
   "source": [
    "from dharitri_sdk import AccountNonceHolder, UserSigner\n",
    "from pathlib import Path\n",
    "\n",
    "user = env.USER1\n",
    "user2 = env.USER2\n",
    "owner = env.OWNER\n",
    "user_nonce_holder = AccountNonceHolder(proxy.get_account(user).nonce)\n",
    "user_signer = UserSigner.from_pem_file(Path(env.USER1_PEM))\n",
    "owner_signer = UserSigner.from_pem_file(Path(env.OWNER_PEM))"
   ]
  },
  {
   "attachments": {},
   "cell_type": "markdown",
   "metadata": {},
   "source": [
    "Wrap tokens"
   ]
  },
  {
   "cell_type": "code",
   "execution_count": null,
   "metadata": {},
   "outputs": [],
   "source": [
    "from dharitri_sdk import TransactionsConverter\n",
    "\n",
    "user = env.USER1\n",
    "user_nonce_holder = AccountNonceHolder(proxy.get_account(user).nonce)\n",
    "\n",
    "transfers = [\n",
    "    TokenPayment.meta_dcdt_from_amount(XMOA, 46, 1000, 18)\n",
    "]\n",
    "\n",
    "builder = ContractCallBuilder(\n",
    "    config,\n",
    "    contract=contract_address,\n",
    "    function_name=\"wrapLockedToken\",\n",
    "    caller=user,\n",
    "    call_arguments=[],\n",
    "    gas_limit=30000000,\n",
    "    dcdt_transfers=transfers\n",
    ")\n",
    "\n",
    "tx = builder.build()\n",
    "\n",
    "converter = TransactionsConverter()\n",
    "print(\"Transaction:\", converter.transaction_to_dictionary(tx))\n",
    "print(\"Transaction data:\", tx.data)"
   ]
  },
  {
   "cell_type": "code",
   "execution_count": null,
   "metadata": {},
   "outputs": [],
   "source": [
    "user = env.USER1\n",
    "user_nonce_holder = AccountNonceHolder(proxy.get_account(user).nonce)\n",
    "\n",
    "transfers = [\n",
    "    TokenPayment.meta_dcdt_from_amount(env.LKMOA, 4580728, 1000, 18)\n",
    "]\n",
    "\n",
    "builder = ContractCallBuilder(\n",
    "    config,\n",
    "    contract=contract_address,\n",
    "    function_name=\"wrapLockedToken\",\n",
    "    caller=user,\n",
    "    call_arguments=[],\n",
    "    gas_limit=30000000,\n",
    "    dcdt_transfers=transfers\n",
    ")\n",
    "\n",
    "tx = builder.build()\n",
    "print(\"Transaction:\", converter.transaction_to_dictionary(tx))\n",
    "print(\"Transaction data:\", tx.data)"
   ]
  },
  {
   "cell_type": "code",
   "execution_count": null,
   "metadata": {},
   "outputs": [],
   "source": [
    "from dharitri_sdk import TransactionComputer\n",
    "\n",
    "tx.nonce = user_nonce_holder.get_nonce_then_increment()\n",
    "\n",
    "tx_computer = TransactionComputer()\n",
    "tx.signature = user_signer.sign(tx_computer.compute_bytes_for_signing(tx))\n",
    "proxy.send_transaction(tx)"
   ]
  },
  {
   "attachments": {},
   "cell_type": "markdown",
   "metadata": {},
   "source": [
    "Unwrap tokens"
   ]
  },
  {
   "cell_type": "code",
   "execution_count": null,
   "metadata": {},
   "outputs": [],
   "source": [
    "user = env.USER1\n",
    "user_nonce_holder = AccountNonceHolder(proxy.get_account(user).nonce)\n",
    "\n",
    "transfers = [\n",
    "    TokenPayment.meta_dcdt_from_amount(WXMOA, 1, 1000, 18)\n",
    "]\n",
    "\n",
    "builder = ContractCallBuilder(\n",
    "    config,\n",
    "    contract=contract_address,\n",
    "    function_name=\"unwrapLockedToken\",\n",
    "    caller=user,\n",
    "    call_arguments=[],\n",
    "    gas_limit=30000000,\n",
    "    dcdt_transfers=transfers\n",
    ")\n",
    "\n",
    "tx = builder.build()\n",
    "print(\"Transaction:\", converter.transaction_to_dictionary(tx))\n",
    "print(\"Transaction data:\", tx.data.decode())"
   ]
  },
  {
   "cell_type": "code",
   "execution_count": null,
   "metadata": {},
   "outputs": [],
   "source": [
    "tx.nonce = user_nonce_holder.get_nonce_then_increment()\n",
    "tx.signature = user_signer.sign(tx_computer.compute_bytes_for_signing(tx))\n",
    "proxy.send_transaction(tx)"
   ]
  },
  {
   "attachments": {},
   "cell_type": "markdown",
   "metadata": {},
   "source": [
    "Token transfer"
   ]
  },
  {
   "cell_type": "code",
   "execution_count": null,
   "metadata": {},
   "outputs": [],
   "source": [
    "transfer = TokenPayment.meta_dcdt_from_amount(WXMOA, 2, 2000000, 18)\n",
    "\n",
    "user = env.USER1\n",
    "receiver = env.USER2\n",
    "user_nonce_holder = AccountNonceHolder(proxy.get_account(user).nonce)\n",
    "\n",
    "builder = DCDTNFTTransferBuilder(\n",
    "    config,\n",
    "    destination=receiver,\n",
    "    sender=user,\n",
    "    gas_limit=30000000,\n",
    "    payment=transfer\n",
    ")\n",
    "\n",
    "tx = builder.build()\n",
    "print(\"Transaction:\", converter.transaction_to_dictionary(tx))\n",
    "print(\"Transaction data:\", tx.data)"
   ]
  },
  {
   "cell_type": "code",
   "execution_count": null,
   "metadata": {},
   "outputs": [],
   "source": [
    "tx.nonce = user_nonce_holder.get_nonce_then_increment()\n",
    "tx.signature = user_signer.sign(tx_computer.compute_bytes_for_signing(tx))\n",
    "proxy.send_transaction(tx)"
   ]
  }
 ],
 "metadata": {
  "kernelspec": {
   "display_name": ".venv",
   "language": "python",
   "name": "python3"
  },
  "language_info": {
   "codemirror_mode": {
    "name": "ipython",
    "version": 3
   },
   "file_extension": ".py",
   "mimetype": "text/x-python",
   "name": "python",
   "nbconvert_exporter": "python",
   "pygments_lexer": "ipython3",
   "version": "3.11.4"
  },
  "orig_nbformat": 4,
  "vscode": {
   "interpreter": {
    "hash": "46890cb94c8e016cd17355f2b23107d7cb41a4430d538522c76446f308933f39"
   }
  }
 },
 "nbformat": 4,
 "nbformat_minor": 2
}
